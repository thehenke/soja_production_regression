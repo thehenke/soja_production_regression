{
 "cells": [
  {
   "cell_type": "code",
   "execution_count": 1,
   "metadata": {},
   "outputs": [],
   "source": [
    "from sklearn.linear_model import LinearRegression\n",
    "from sklearn.ensemble import RandomForestRegressor\n",
    "from sklearn.model_selection import train_test_split\n",
    "import pandas as pd\n",
    "import sklearn.metrics as metrics\n",
    "import numpy as np"
   ]
  },
  {
   "cell_type": "code",
   "execution_count": 2,
   "metadata": {},
   "outputs": [],
   "source": [
    "df = pd.read_csv('data/soja_cepea_brasil.csv', delimiter = ';')\n",
    "df['data'] = pd.to_datetime(df['data'])\n",
    "df = df.set_index('data')\n",
    "df = df.sort_index()"
   ]
  },
  {
   "cell_type": "code",
   "execution_count": 3,
   "metadata": {},
   "outputs": [],
   "source": [
    "df = df.astype(str).stack().str.replace(',','.').unstack().astype(float)\n",
    "# df = df.drop(['preco_us'], axis = 1)"
   ]
  },
  {
   "cell_type": "markdown",
   "metadata": {},
   "source": [
    "### Feature Engineering"
   ]
  },
  {
   "cell_type": "code",
   "execution_count": 4,
   "metadata": {},
   "outputs": [
    {
     "data": {
      "text/html": [
       "<div>\n",
       "<style scoped>\n",
       "    .dataframe tbody tr th:only-of-type {\n",
       "        vertical-align: middle;\n",
       "    }\n",
       "\n",
       "    .dataframe tbody tr th {\n",
       "        vertical-align: top;\n",
       "    }\n",
       "\n",
       "    .dataframe thead th {\n",
       "        text-align: right;\n",
       "    }\n",
       "</style>\n",
       "<table border=\"1\" class=\"dataframe\">\n",
       "  <thead>\n",
       "    <tr style=\"text-align: right;\">\n",
       "      <th></th>\n",
       "      <th>preco_br</th>\n",
       "      <th>yesterday</th>\n",
       "      <th>yesterday_dif</th>\n",
       "      <th>yesterday_1</th>\n",
       "      <th>last_week</th>\n",
       "      <th>last_month</th>\n",
       "    </tr>\n",
       "    <tr>\n",
       "      <th>data</th>\n",
       "      <th></th>\n",
       "      <th></th>\n",
       "      <th></th>\n",
       "      <th></th>\n",
       "      <th></th>\n",
       "      <th></th>\n",
       "    </tr>\n",
       "  </thead>\n",
       "  <tbody>\n",
       "    <tr>\n",
       "      <th>1997-08-12</th>\n",
       "      <td>20.59</td>\n",
       "      <td>18.72</td>\n",
       "      <td>-0.74</td>\n",
       "      <td>19.46</td>\n",
       "      <td>18.86</td>\n",
       "      <td>18.10</td>\n",
       "    </tr>\n",
       "    <tr>\n",
       "      <th>1997-08-13</th>\n",
       "      <td>18.00</td>\n",
       "      <td>20.59</td>\n",
       "      <td>1.87</td>\n",
       "      <td>18.72</td>\n",
       "      <td>19.67</td>\n",
       "      <td>19.09</td>\n",
       "    </tr>\n",
       "    <tr>\n",
       "      <th>1997-08-14</th>\n",
       "      <td>18.07</td>\n",
       "      <td>18.00</td>\n",
       "      <td>-2.59</td>\n",
       "      <td>20.59</td>\n",
       "      <td>18.04</td>\n",
       "      <td>19.24</td>\n",
       "    </tr>\n",
       "    <tr>\n",
       "      <th>1997-08-15</th>\n",
       "      <td>18.15</td>\n",
       "      <td>18.07</td>\n",
       "      <td>0.07</td>\n",
       "      <td>18.00</td>\n",
       "      <td>17.97</td>\n",
       "      <td>20.85</td>\n",
       "    </tr>\n",
       "    <tr>\n",
       "      <th>1997-08-18</th>\n",
       "      <td>18.17</td>\n",
       "      <td>18.15</td>\n",
       "      <td>0.08</td>\n",
       "      <td>18.07</td>\n",
       "      <td>18.17</td>\n",
       "      <td>19.21</td>\n",
       "    </tr>\n",
       "    <tr>\n",
       "      <th>...</th>\n",
       "      <td>...</td>\n",
       "      <td>...</td>\n",
       "      <td>...</td>\n",
       "      <td>...</td>\n",
       "      <td>...</td>\n",
       "      <td>...</td>\n",
       "    </tr>\n",
       "    <tr>\n",
       "      <th>2021-10-02</th>\n",
       "      <td>161.66</td>\n",
       "      <td>164.64</td>\n",
       "      <td>0.84</td>\n",
       "      <td>163.80</td>\n",
       "      <td>165.39</td>\n",
       "      <td>141.99</td>\n",
       "    </tr>\n",
       "    <tr>\n",
       "      <th>2021-11-01</th>\n",
       "      <td>164.28</td>\n",
       "      <td>161.66</td>\n",
       "      <td>-2.98</td>\n",
       "      <td>164.64</td>\n",
       "      <td>155.72</td>\n",
       "      <td>144.73</td>\n",
       "    </tr>\n",
       "    <tr>\n",
       "      <th>2021-11-02</th>\n",
       "      <td>159.73</td>\n",
       "      <td>164.28</td>\n",
       "      <td>2.62</td>\n",
       "      <td>161.66</td>\n",
       "      <td>165.29</td>\n",
       "      <td>144.89</td>\n",
       "    </tr>\n",
       "    <tr>\n",
       "      <th>2021-12-01</th>\n",
       "      <td>165.92</td>\n",
       "      <td>159.73</td>\n",
       "      <td>-4.55</td>\n",
       "      <td>164.28</td>\n",
       "      <td>158.46</td>\n",
       "      <td>166.63</td>\n",
       "    </tr>\n",
       "    <tr>\n",
       "      <th>2021-12-02</th>\n",
       "      <td>160.06</td>\n",
       "      <td>165.92</td>\n",
       "      <td>6.19</td>\n",
       "      <td>159.73</td>\n",
       "      <td>159.16</td>\n",
       "      <td>166.53</td>\n",
       "    </tr>\n",
       "  </tbody>\n",
       "</table>\n",
       "<p>5835 rows × 6 columns</p>\n",
       "</div>"
      ],
      "text/plain": [
       "            preco_br  yesterday  yesterday_dif  yesterday_1  last_week  \\\n",
       "data                                                                     \n",
       "1997-08-12     20.59      18.72          -0.74        19.46      18.86   \n",
       "1997-08-13     18.00      20.59           1.87        18.72      19.67   \n",
       "1997-08-14     18.07      18.00          -2.59        20.59      18.04   \n",
       "1997-08-15     18.15      18.07           0.07        18.00      17.97   \n",
       "1997-08-18     18.17      18.15           0.08        18.07      18.17   \n",
       "...              ...        ...            ...          ...        ...   \n",
       "2021-10-02    161.66     164.64           0.84       163.80     165.39   \n",
       "2021-11-01    164.28     161.66          -2.98       164.64     155.72   \n",
       "2021-11-02    159.73     164.28           2.62       161.66     165.29   \n",
       "2021-12-01    165.92     159.73          -4.55       164.28     158.46   \n",
       "2021-12-02    160.06     165.92           6.19       159.73     159.16   \n",
       "\n",
       "            last_month  \n",
       "data                    \n",
       "1997-08-12       18.10  \n",
       "1997-08-13       19.09  \n",
       "1997-08-14       19.24  \n",
       "1997-08-15       20.85  \n",
       "1997-08-18       19.21  \n",
       "...                ...  \n",
       "2021-10-02      141.99  \n",
       "2021-11-01      144.73  \n",
       "2021-11-02      144.89  \n",
       "2021-12-01      166.63  \n",
       "2021-12-02      166.53  \n",
       "\n",
       "[5835 rows x 6 columns]"
      ]
     },
     "execution_count": 4,
     "metadata": {},
     "output_type": "execute_result"
    }
   ],
   "source": [
    "df2 = df[['preco_br']]\n",
    "\n",
    "df2.loc[:, 'yesterday'] = df2.loc[:,'preco_br'].shift()\n",
    "df2.loc[:, 'yesterday_dif'] = df2.loc[:, 'yesterday'].diff()\n",
    "\n",
    "df2.loc[:, 'yesterday_1'] = df2.loc[:, 'yesterday'].shift()\n",
    "# df2.loc[:, 'yesterday_1_dif'] = df2.loc[:, 'yesterday_1'].diff()\n",
    "\n",
    "df2.loc[:, 'last_week'] = df2.loc[:, 'yesterday'].shift(7)\n",
    "# df2.loc[:, 'last_week_diff'] = df2.loc[:, 'last_week'].diff()\n",
    "\n",
    "\n",
    "# df2.loc[:, 'last_year'] = df2.loc[:, 'yesterday'].shift(365)\n",
    "# df2.loc[:, 'last_year_diff'] = df2.loc[:, 'last_year'].diff()\n",
    "# df2.loc[:, 'last_year_diff'] = df2['yesterday'].sub(df2['last_year'], axis = 0) \n",
    "\n",
    "df2.loc[:, 'last_month'] = df2.loc[:, 'yesterday'].shift(30)\n",
    "# df2.loc[:, 'last_month_diff'] = df2.loc[:, 'last_month'].diff()\n",
    "\n",
    "df2 = df2.dropna()\n",
    "df2"
   ]
  },
  {
   "cell_type": "code",
   "execution_count": 5,
   "metadata": {},
   "outputs": [],
   "source": [
    "df2.to_csv('data/final/soja_cepea_final.csv')"
   ]
  },
  {
   "cell_type": "markdown",
   "metadata": {},
   "source": [
    "### Cross-Validation on Time Series "
   ]
  },
  {
   "cell_type": "code",
   "execution_count": 6,
   "metadata": {},
   "outputs": [
    {
     "name": "stdout",
     "output_type": "stream",
     "text": [
      "TRAIN:  [1997] TEST:  [1998]\n",
      "TRAIN:  [1997, 1998] TEST:  [1999]\n",
      "TRAIN:  [1997, 1998, 1999] TEST:  [2000]\n",
      "TRAIN:  [1997, 1998, 1999, 2000] TEST:  [2001]\n",
      "TRAIN:  [1997, 1998, 1999, 2000, 2001] TEST:  [2002]\n",
      "TRAIN:  [1997, 1998, 1999, 2000, 2001, 2002] TEST:  [2003]\n",
      "TRAIN:  [1997, 1998, 1999, 2000, 2001, 2002, 2003] TEST:  [2004]\n",
      "TRAIN:  [1997, 1998, 1999, 2000, 2001, 2002, 2003, 2004] TEST:  [2005]\n",
      "TRAIN:  [1997, 1998, 1999, 2000, 2001, 2002, 2003, 2004, 2005] TEST:  [2006]\n",
      "TRAIN:  [1997, 1998, 1999, 2000, 2001, 2002, 2003, 2004, 2005, 2006] TEST:  [2007]\n",
      "TRAIN:  [1997, 1998, 1999, 2000, 2001, 2002, 2003, 2004, 2005, 2006, 2007] TEST:  [2008]\n",
      "TRAIN:  [1997, 1998, 1999, 2000, 2001, 2002, 2003, 2004, 2005, 2006, 2007, 2008] TEST:  [2009]\n",
      "TRAIN:  [1997, 1998, 1999, 2000, 2001, 2002, 2003, 2004, 2005, 2006, 2007, 2008, 2009] TEST:  [2010]\n",
      "TRAIN:  [1997, 1998, 1999, 2000, 2001, 2002, 2003, 2004, 2005, 2006, 2007, 2008, 2009, 2010] TEST:  [2011]\n",
      "TRAIN:  [1997, 1998, 1999, 2000, 2001, 2002, 2003, 2004, 2005, 2006, 2007, 2008, 2009, 2010, 2011] TEST:  [2012]\n",
      "TRAIN:  [1997, 1998, 1999, 2000, 2001, 2002, 2003, 2004, 2005, 2006, 2007, 2008, 2009, 2010, 2011, 2012] TEST:  [2013]\n",
      "TRAIN:  [1997, 1998, 1999, 2000, 2001, 2002, 2003, 2004, 2005, 2006, 2007, 2008, 2009, 2010, 2011, 2012, 2013] TEST:  [2014]\n",
      "TRAIN:  [1997, 1998, 1999, 2000, 2001, 2002, 2003, 2004, 2005, 2006, 2007, 2008, 2009, 2010, 2011, 2012, 2013, 2014] TEST:  [2015]\n",
      "TRAIN:  [1997, 1998, 1999, 2000, 2001, 2002, 2003, 2004, 2005, 2006, 2007, 2008, 2009, 2010, 2011, 2012, 2013, 2014, 2015] TEST:  [2016]\n",
      "TRAIN:  [1997, 1998, 1999, 2000, 2001, 2002, 2003, 2004, 2005, 2006, 2007, 2008, 2009, 2010, 2011, 2012, 2013, 2014, 2015, 2016] TEST:  [2017]\n",
      "TRAIN:  [1997, 1998, 1999, 2000, 2001, 2002, 2003, 2004, 2005, 2006, 2007, 2008, 2009, 2010, 2011, 2012, 2013, 2014, 2015, 2016, 2017] TEST:  [2018]\n",
      "TRAIN:  [1997, 1998, 1999, 2000, 2001, 2002, 2003, 2004, 2005, 2006, 2007, 2008, 2009, 2010, 2011, 2012, 2013, 2014, 2015, 2016, 2017, 2018] TEST:  [2019]\n",
      "TRAIN:  [1997, 1998, 1999, 2000, 2001, 2002, 2003, 2004, 2005, 2006, 2007, 2008, 2009, 2010, 2011, 2012, 2013, 2014, 2015, 2016, 2017, 2018, 2019] TEST:  [2020]\n",
      "TRAIN:  [1997, 1998, 1999, 2000, 2001, 2002, 2003, 2004, 2005, 2006, 2007, 2008, 2009, 2010, 2011, 2012, 2013, 2014, 2015, 2016, 2017, 2018, 2019, 2020] TEST:  [2021]\n"
     ]
    }
   ],
   "source": [
    "year_list = df2.index.year.unique().tolist()\n",
    "splits = {'train': [], 'test': []}\n",
    "\n",
    "for idx, yr in enumerate(year_list[:-1]):\n",
    "    train_yr = year_list[:idx+1]\n",
    "    test_yr = [year_list[idx+1]]\n",
    "    print('TRAIN: ', train_yr, 'TEST: ',test_yr)\n",
    "    \n",
    "    splits['train'].append(df2.loc[df2.index.year.isin(train_yr), :])\n",
    "    splits['test'].append(df2.loc[df2.index.year.isin(test_yr), :])\n",
    "    "
   ]
  },
  {
   "cell_type": "code",
   "execution_count": 7,
   "metadata": {},
   "outputs": [
    {
     "name": "stdout",
     "output_type": "stream",
     "text": [
      "-1.4435384275823022\n",
      "0.4419077443227315\n",
      "0.3031319925054706\n",
      "0.6813128221228524\n",
      "0.693457181988826\n",
      "0.4545714927450224\n",
      "0.6261830228275518\n",
      "0.4010801912246956\n",
      "0.4573520454389284\n",
      "0.6771997866123034\n",
      "-0.26446633971364664\n",
      "0.42250252969114777\n",
      "0.5849397291865702\n",
      "0.232709499894724\n",
      "0.6580825583012272\n",
      "0.4742442325680092\n",
      "0.46035148922239144\n",
      "0.6883096687060504\n",
      "0.33791641464347233\n",
      "0.20141562208941322\n",
      "0.470997731342656\n",
      "0.6096764937723083\n",
      "0.6479463260286848\n",
      "-1.5532475978516422\n"
     ]
    }
   ],
   "source": [
    "model = LinearRegression()\n",
    "\n",
    "for i, yr in enumerate(year_list[:-1]):\n",
    "    X_train = splits['train'][i].drop(['preco_br'], axis = 1).values # X\n",
    "    y_train = splits['train'][i]['preco_br'].values # Y\n",
    "    \n",
    "    X_test =  splits['test'][i].drop(['preco_br'], axis = 1).values\n",
    "    y_test = splits['test'][i]['preco_br'].values\n",
    "    \n",
    "    model.fit(X_train, y_train)\n",
    "    pred = model.predict(X_test)\n",
    "    \n",
    "    r2 = metrics.r2_score(y_test, pred)\n",
    "    print(r2)"
   ]
  },
  {
   "cell_type": "markdown",
   "metadata": {},
   "source": [
    "### Testando a regressao com os dados aleatorizados"
   ]
  },
  {
   "cell_type": "code",
   "execution_count": 8,
   "metadata": {},
   "outputs": [],
   "source": [
    "X = df2.drop(['preco_br'], axis = 1).values\n",
    "y = df2.loc[:, 'preco_br']"
   ]
  },
  {
   "cell_type": "code",
   "execution_count": 9,
   "metadata": {},
   "outputs": [],
   "source": [
    "X_train, X_test, y_train, y_test = train_test_split(X, y, test_size = 0.30, random_state = 42)"
   ]
  },
  {
   "cell_type": "code",
   "execution_count": 10,
   "metadata": {},
   "outputs": [
    {
     "data": {
      "text/plain": [
       "0.9678598175674128"
      ]
     },
     "execution_count": 10,
     "metadata": {},
     "output_type": "execute_result"
    }
   ],
   "source": [
    "model_v1 = LinearRegression()\n",
    "model_v1.fit(X_train, y_train)\n",
    "predict_v1 = model_v1.predict(X_test)\n",
    "metrics.r2_score(y_test, predict_v1)"
   ]
  },
  {
   "cell_type": "code",
   "execution_count": null,
   "metadata": {},
   "outputs": [],
   "source": []
  }
 ],
 "metadata": {
  "kernelspec": {
   "display_name": "Python 3",
   "language": "python",
   "name": "python3"
  },
  "language_info": {
   "codemirror_mode": {
    "name": "ipython",
    "version": 3
   },
   "file_extension": ".py",
   "mimetype": "text/x-python",
   "name": "python",
   "nbconvert_exporter": "python",
   "pygments_lexer": "ipython3",
   "version": "3.8.5"
  }
 },
 "nbformat": 4,
 "nbformat_minor": 4
}
