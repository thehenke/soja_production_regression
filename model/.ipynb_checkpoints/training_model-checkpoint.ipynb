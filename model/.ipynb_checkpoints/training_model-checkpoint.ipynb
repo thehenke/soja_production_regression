{
 "cells": [
  {
   "cell_type": "code",
   "execution_count": 2,
   "metadata": {},
   "outputs": [],
   "source": [
    "from sklearn.linear_model import LinearRegression\n",
    "from sklearn.ensemble import RandomForestRegressor\n",
    "from sklearn.model_selection import train_test_split\n",
    "import pandas as pd\n",
    "import sklearn.metrics as metrics\n",
    "import numpy as np"
   ]
  },
  {
   "cell_type": "code",
   "execution_count": 3,
   "metadata": {},
   "outputs": [],
   "source": [
    "df = pd.read_csv('data/soja_cepea_brasil.csv', delimiter = ';')\n",
    "df['data'] = pd.to_datetime(df['data'])\n",
    "df = df.set_index('data')\n",
    "df = df.sort_index()"
   ]
  },
  {
   "cell_type": "code",
   "execution_count": 4,
   "metadata": {},
   "outputs": [],
   "source": [
    "df = df.astype(str).stack().str.replace(',','.').unstack().astype(float)\n",
    "# df = df.drop(['preco_us'], axis = 1)"
   ]
  },
  {
   "cell_type": "markdown",
   "metadata": {},
   "source": [
    "### Feature Engineering"
   ]
  },
  {
   "cell_type": "code",
   "execution_count": 5,
   "metadata": {},
   "outputs": [
    {
     "ename": "NameError",
     "evalue": "name 'df2' is not defined",
     "output_type": "error",
     "traceback": [
      "\u001b[1;31m---------------------------------------------------------------------------\u001b[0m",
      "\u001b[1;31mNameError\u001b[0m                                 Traceback (most recent call last)",
      "\u001b[1;32m<ipython-input-5-248774e33e4b>\u001b[0m in \u001b[0;36m<module>\u001b[1;34m\u001b[0m\n\u001b[1;32m----> 1\u001b[1;33m \u001b[0mdf2\u001b[0m\u001b[1;33m[\u001b[0m\u001b[1;34m'tomorrow'\u001b[0m\u001b[1;33m]\u001b[0m \u001b[1;33m=\u001b[0m \u001b[0mdf\u001b[0m\u001b[1;33m[\u001b[0m\u001b[1;33m[\u001b[0m\u001b[1;34m'preco_br'\u001b[0m\u001b[1;33m]\u001b[0m\u001b[1;33m]\u001b[0m\u001b[1;33m\u001b[0m\u001b[1;33m\u001b[0m\u001b[0m\n\u001b[0m\u001b[0;32m      2\u001b[0m \u001b[1;33m\u001b[0m\u001b[0m\n\u001b[0;32m      3\u001b[0m \u001b[0mdf2\u001b[0m\u001b[1;33m.\u001b[0m\u001b[0mloc\u001b[0m\u001b[1;33m[\u001b[0m\u001b[1;33m:\u001b[0m\u001b[1;33m,\u001b[0m \u001b[1;34m'today'\u001b[0m\u001b[1;33m]\u001b[0m \u001b[1;33m=\u001b[0m \u001b[0mdf2\u001b[0m\u001b[1;33m.\u001b[0m\u001b[0mloc\u001b[0m\u001b[1;33m[\u001b[0m\u001b[1;33m:\u001b[0m\u001b[1;33m,\u001b[0m\u001b[1;34m'tomorrow'\u001b[0m\u001b[1;33m]\u001b[0m\u001b[1;33m.\u001b[0m\u001b[0mshift\u001b[0m\u001b[1;33m(\u001b[0m\u001b[1;33m)\u001b[0m\u001b[1;33m\u001b[0m\u001b[1;33m\u001b[0m\u001b[0m\n\u001b[0;32m      4\u001b[0m \u001b[0mdf2\u001b[0m\u001b[1;33m.\u001b[0m\u001b[0mloc\u001b[0m\u001b[1;33m[\u001b[0m\u001b[1;33m:\u001b[0m\u001b[1;33m,\u001b[0m \u001b[1;34m'today_dif'\u001b[0m\u001b[1;33m]\u001b[0m \u001b[1;33m=\u001b[0m \u001b[0mdf2\u001b[0m\u001b[1;33m.\u001b[0m\u001b[0mloc\u001b[0m\u001b[1;33m[\u001b[0m\u001b[1;33m:\u001b[0m\u001b[1;33m,\u001b[0m \u001b[1;34m'today'\u001b[0m\u001b[1;33m]\u001b[0m\u001b[1;33m.\u001b[0m\u001b[0mdiff\u001b[0m\u001b[1;33m(\u001b[0m\u001b[1;33m)\u001b[0m\u001b[1;33m\u001b[0m\u001b[1;33m\u001b[0m\u001b[0m\n\u001b[0;32m      5\u001b[0m \u001b[1;33m\u001b[0m\u001b[0m\n",
      "\u001b[1;31mNameError\u001b[0m: name 'df2' is not defined"
     ]
    }
   ],
   "source": [
    "df2 = df[['preco_br']]\n",
    "\n",
    "df2.loc[:, 'yesterday'] = df2.loc[:,'preco_br'].shift()\n",
    "df2.loc[:, 'yesterday_dif'] = df2.loc[:, 'yesterday'].diff()\n",
    "\n",
    "df2.loc[:, 'yesterday_1'] = df2.loc[:,'yesterday'].shift()\n",
    "# df2.loc[:, 'yesterday_1_dif'] = df2.loc[:, 'yesterday_1'].diff()\n",
    "\n",
    "df2.loc[:, 'last_week'] = df2.loc[:, 'preco_br'].shift(7)\n",
    "# df2.loc[:, 'last_week_diff'] = df2.loc[:, 'last_week'].diff()\n",
    "\n",
    "\n",
    "df2.loc[:, 'last_year'] = df2.loc[:, 'preco_br'].shift(365)\n",
    "# df2.loc[:, 'last_year_diff'] = df2.loc[:, 'last_year'].diff()\n",
    "# df2.loc[:, 'last_year_diff'] = df2['yesterday'].sub(df2['last_year'], axis = 0) \n",
    "\n",
    "df2.loc[:, 'last_month'] = df2.loc[:, 'preco_br'].shift(30)\n",
    "# df2.loc[:, 'last_month_diff'] = df2.loc[:, 'last_month'].diff()\n",
    "\n",
    "df2 = df2.dropna()\n",
    "df2"
   ]
  },
  {
   "cell_type": "code",
   "execution_count": 16,
   "metadata": {},
   "outputs": [],
   "source": [
    "df2.to_csv('data/final/soja_cepea_final.csv')"
   ]
  },
  {
   "cell_type": "markdown",
   "metadata": {},
   "source": [
    "### Cross-Validation on Time Series "
   ]
  },
  {
   "cell_type": "code",
   "execution_count": 17,
   "metadata": {},
   "outputs": [
    {
     "name": "stdout",
     "output_type": "stream",
     "text": [
      "TRAIN:  [1999] TEST:  [2000]\n",
      "TRAIN:  [1999, 2000] TEST:  [2001]\n",
      "TRAIN:  [1999, 2000, 2001] TEST:  [2002]\n",
      "TRAIN:  [1999, 2000, 2001, 2002] TEST:  [2003]\n",
      "TRAIN:  [1999, 2000, 2001, 2002, 2003] TEST:  [2004]\n",
      "TRAIN:  [1999, 2000, 2001, 2002, 2003, 2004] TEST:  [2005]\n",
      "TRAIN:  [1999, 2000, 2001, 2002, 2003, 2004, 2005] TEST:  [2006]\n",
      "TRAIN:  [1999, 2000, 2001, 2002, 2003, 2004, 2005, 2006] TEST:  [2007]\n",
      "TRAIN:  [1999, 2000, 2001, 2002, 2003, 2004, 2005, 2006, 2007] TEST:  [2008]\n",
      "TRAIN:  [1999, 2000, 2001, 2002, 2003, 2004, 2005, 2006, 2007, 2008] TEST:  [2009]\n",
      "TRAIN:  [1999, 2000, 2001, 2002, 2003, 2004, 2005, 2006, 2007, 2008, 2009] TEST:  [2010]\n",
      "TRAIN:  [1999, 2000, 2001, 2002, 2003, 2004, 2005, 2006, 2007, 2008, 2009, 2010] TEST:  [2011]\n",
      "TRAIN:  [1999, 2000, 2001, 2002, 2003, 2004, 2005, 2006, 2007, 2008, 2009, 2010, 2011] TEST:  [2012]\n",
      "TRAIN:  [1999, 2000, 2001, 2002, 2003, 2004, 2005, 2006, 2007, 2008, 2009, 2010, 2011, 2012] TEST:  [2013]\n",
      "TRAIN:  [1999, 2000, 2001, 2002, 2003, 2004, 2005, 2006, 2007, 2008, 2009, 2010, 2011, 2012, 2013] TEST:  [2014]\n",
      "TRAIN:  [1999, 2000, 2001, 2002, 2003, 2004, 2005, 2006, 2007, 2008, 2009, 2010, 2011, 2012, 2013, 2014] TEST:  [2015]\n",
      "TRAIN:  [1999, 2000, 2001, 2002, 2003, 2004, 2005, 2006, 2007, 2008, 2009, 2010, 2011, 2012, 2013, 2014, 2015] TEST:  [2016]\n",
      "TRAIN:  [1999, 2000, 2001, 2002, 2003, 2004, 2005, 2006, 2007, 2008, 2009, 2010, 2011, 2012, 2013, 2014, 2015, 2016] TEST:  [2017]\n",
      "TRAIN:  [1999, 2000, 2001, 2002, 2003, 2004, 2005, 2006, 2007, 2008, 2009, 2010, 2011, 2012, 2013, 2014, 2015, 2016, 2017] TEST:  [2018]\n",
      "TRAIN:  [1999, 2000, 2001, 2002, 2003, 2004, 2005, 2006, 2007, 2008, 2009, 2010, 2011, 2012, 2013, 2014, 2015, 2016, 2017, 2018] TEST:  [2019]\n",
      "TRAIN:  [1999, 2000, 2001, 2002, 2003, 2004, 2005, 2006, 2007, 2008, 2009, 2010, 2011, 2012, 2013, 2014, 2015, 2016, 2017, 2018, 2019] TEST:  [2020]\n",
      "TRAIN:  [1999, 2000, 2001, 2002, 2003, 2004, 2005, 2006, 2007, 2008, 2009, 2010, 2011, 2012, 2013, 2014, 2015, 2016, 2017, 2018, 2019, 2020] TEST:  [2021]\n"
     ]
    }
   ],
   "source": [
    "year_list = df2.index.year.unique().tolist()\n",
    "splits = {'train': [], 'test': []}\n",
    "\n",
    "for idx, yr in enumerate(year_list[:-1]):\n",
    "    train_yr = year_list[:idx+1]\n",
    "    test_yr = [year_list[idx+1]]\n",
    "    print('TRAIN: ', train_yr, 'TEST: ',test_yr)\n",
    "    \n",
    "    splits['train'].append(df2.loc[df2.index.year.isin(train_yr), :])\n",
    "    splits['test'].append(df2.loc[df2.index.year.isin(test_yr), :])\n",
    "    "
   ]
  },
  {
   "cell_type": "code",
   "execution_count": 18,
   "metadata": {},
   "outputs": [
    {
     "name": "stdout",
     "output_type": "stream",
     "text": [
      "0.25431118321534985\n",
      "0.5827414871539407\n",
      "0.6930488759548136\n",
      "0.47182083611742565\n",
      "0.620964184288983\n",
      "0.3324776460326927\n",
      "0.47423478486311554\n",
      "0.6768805612848392\n",
      "-0.29192037115075786\n",
      "0.41353111455006264\n",
      "0.5871780919555272\n",
      "0.22624987571448563\n",
      "0.6592714138770502\n",
      "0.4934352999133126\n",
      "0.4641384222185645\n",
      "0.6938690208674296\n",
      "0.33525362329588493\n",
      "0.23926312798972416\n",
      "0.49341107866990586\n",
      "0.6069006429992245\n",
      "0.6443945586410968\n",
      "-2.031430223394808\n"
     ]
    }
   ],
   "source": [
    "model = LinearRegression()\n",
    "\n",
    "for i, yr in enumerate(year_list[:-1]):\n",
    "    X_train = splits['train'][i].drop(['preco_br'], axis = 1).values # X\n",
    "    y_train = splits['train'][i]['preco_br'].values # Y\n",
    "    \n",
    "    X_test =  splits['test'][i].drop(['preco_br'], axis = 1).values\n",
    "    y_test = splits['test'][i]['preco_br'].values\n",
    "    \n",
    "    model.fit(X_train, y_train)\n",
    "    pred = model.predict(X_test)\n",
    "    \n",
    "    r2 = metrics.r2_score(y_test, pred)\n",
    "    print(r2)"
   ]
  },
  {
   "cell_type": "markdown",
   "metadata": {},
   "source": [
    "### Testando a regressao com os dados aleatorizados"
   ]
  },
  {
   "cell_type": "code",
   "execution_count": 19,
   "metadata": {},
   "outputs": [],
   "source": [
    "X = df2.drop(['preco_br'], axis = 1).values\n",
    "y = df2.loc[:, 'preco_br']"
   ]
  },
  {
   "cell_type": "code",
   "execution_count": 20,
   "metadata": {},
   "outputs": [],
   "source": [
    "X_train, X_test, y_train, y_test = train_test_split(X, y, test_size = 0.30, random_state = 42)"
   ]
  },
  {
   "cell_type": "code",
   "execution_count": 21,
   "metadata": {},
   "outputs": [
    {
     "data": {
      "text/plain": [
       "0.9732448177420547"
      ]
     },
     "execution_count": 21,
     "metadata": {},
     "output_type": "execute_result"
    }
   ],
   "source": [
    "model_v1 = LinearRegression()\n",
    "model_v1.fit(X_train, y_train)\n",
    "predict_v1 = model_v1.predict(X_test)\n",
    "metrics.r2_score(y_test, predict_v1)"
   ]
  },
  {
   "cell_type": "code",
   "execution_count": null,
   "metadata": {},
   "outputs": [],
   "source": []
  }
 ],
 "metadata": {
  "kernelspec": {
   "display_name": "Python 3",
   "language": "python",
   "name": "python3"
  },
  "language_info": {
   "codemirror_mode": {
    "name": "ipython",
    "version": 3
   },
   "file_extension": ".py",
   "mimetype": "text/x-python",
   "name": "python",
   "nbconvert_exporter": "python",
   "pygments_lexer": "ipython3",
   "version": "3.8.5"
  }
 },
 "nbformat": 4,
 "nbformat_minor": 4
}
