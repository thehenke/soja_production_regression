{
 "cells": [
  {
   "cell_type": "code",
   "execution_count": 54,
   "metadata": {},
   "outputs": [],
   "source": [
    "from sklearn.linear_model import LinearRegression\n",
    "from sklearn.ensemble import RandomForestRegressor\n",
    "from sklearn.model_selection import train_test_split\n",
    "import pandas as pd\n",
    "import sklearn.metrics as metrics\n",
    "import numpy as np"
   ]
  },
  {
   "cell_type": "code",
   "execution_count": 55,
   "metadata": {},
   "outputs": [],
   "source": [
    "df = pd.read_csv('data/soja_cepea_brasil.csv', delimiter = ';')\n",
    "df['data'] = pd.to_datetime(df['data'])\n",
    "df = df.set_index('data')\n",
    "df = df.sort_index()"
   ]
  },
  {
   "cell_type": "code",
   "execution_count": 56,
   "metadata": {},
   "outputs": [],
   "source": [
    "df = df.astype(str).stack().str.replace(',','.').unstack().astype(float)\n",
    "# df = df.drop(['preco_us'], axis = 1)"
   ]
  },
  {
   "cell_type": "markdown",
   "metadata": {},
   "source": [
    "### Feature Engineering"
   ]
  },
  {
   "cell_type": "code",
   "execution_count": 57,
   "metadata": {},
   "outputs": [
    {
     "data": {
      "text/html": [
       "<div>\n",
       "<style scoped>\n",
       "    .dataframe tbody tr th:only-of-type {\n",
       "        vertical-align: middle;\n",
       "    }\n",
       "\n",
       "    .dataframe tbody tr th {\n",
       "        vertical-align: top;\n",
       "    }\n",
       "\n",
       "    .dataframe thead th {\n",
       "        text-align: right;\n",
       "    }\n",
       "</style>\n",
       "<table border=\"1\" class=\"dataframe\">\n",
       "  <thead>\n",
       "    <tr style=\"text-align: right;\">\n",
       "      <th></th>\n",
       "      <th>preco_br</th>\n",
       "      <th>yesterday</th>\n",
       "      <th>yesterday_dif</th>\n",
       "      <th>yesterday_1</th>\n",
       "      <th>last_week</th>\n",
       "      <th>last_year</th>\n",
       "      <th>last_month</th>\n",
       "    </tr>\n",
       "    <tr>\n",
       "      <th>data</th>\n",
       "      <th></th>\n",
       "      <th></th>\n",
       "      <th></th>\n",
       "      <th></th>\n",
       "      <th></th>\n",
       "      <th></th>\n",
       "      <th></th>\n",
       "    </tr>\n",
       "  </thead>\n",
       "  <tbody>\n",
       "    <tr>\n",
       "      <th>1999-01-18</th>\n",
       "      <td>14.39</td>\n",
       "      <td>13.91</td>\n",
       "      <td>0.02</td>\n",
       "      <td>13.89</td>\n",
       "      <td>19.83</td>\n",
       "      <td>18.10</td>\n",
       "      <td>14.88</td>\n",
       "    </tr>\n",
       "    <tr>\n",
       "      <th>1999-01-19</th>\n",
       "      <td>15.13</td>\n",
       "      <td>14.39</td>\n",
       "      <td>0.48</td>\n",
       "      <td>13.91</td>\n",
       "      <td>21.10</td>\n",
       "      <td>19.09</td>\n",
       "      <td>17.86</td>\n",
       "    </tr>\n",
       "    <tr>\n",
       "      <th>1999-01-20</th>\n",
       "      <td>15.62</td>\n",
       "      <td>15.13</td>\n",
       "      <td>0.74</td>\n",
       "      <td>14.39</td>\n",
       "      <td>21.46</td>\n",
       "      <td>19.24</td>\n",
       "      <td>15.83</td>\n",
       "    </tr>\n",
       "    <tr>\n",
       "      <th>1999-01-21</th>\n",
       "      <td>16.97</td>\n",
       "      <td>15.62</td>\n",
       "      <td>0.49</td>\n",
       "      <td>15.13</td>\n",
       "      <td>20.56</td>\n",
       "      <td>20.85</td>\n",
       "      <td>14.54</td>\n",
       "    </tr>\n",
       "    <tr>\n",
       "      <th>1999-01-22</th>\n",
       "      <td>17.16</td>\n",
       "      <td>16.97</td>\n",
       "      <td>1.35</td>\n",
       "      <td>15.62</td>\n",
       "      <td>13.86</td>\n",
       "      <td>19.21</td>\n",
       "      <td>14.58</td>\n",
       "    </tr>\n",
       "    <tr>\n",
       "      <th>...</th>\n",
       "      <td>...</td>\n",
       "      <td>...</td>\n",
       "      <td>...</td>\n",
       "      <td>...</td>\n",
       "      <td>...</td>\n",
       "      <td>...</td>\n",
       "      <td>...</td>\n",
       "    </tr>\n",
       "    <tr>\n",
       "      <th>2021-10-02</th>\n",
       "      <td>161.66</td>\n",
       "      <td>164.64</td>\n",
       "      <td>0.84</td>\n",
       "      <td>163.80</td>\n",
       "      <td>155.72</td>\n",
       "      <td>82.36</td>\n",
       "      <td>144.73</td>\n",
       "    </tr>\n",
       "    <tr>\n",
       "      <th>2021-11-01</th>\n",
       "      <td>164.28</td>\n",
       "      <td>161.66</td>\n",
       "      <td>-2.98</td>\n",
       "      <td>164.64</td>\n",
       "      <td>165.29</td>\n",
       "      <td>82.10</td>\n",
       "      <td>144.89</td>\n",
       "    </tr>\n",
       "    <tr>\n",
       "      <th>2021-11-02</th>\n",
       "      <td>159.73</td>\n",
       "      <td>164.28</td>\n",
       "      <td>2.62</td>\n",
       "      <td>161.66</td>\n",
       "      <td>158.46</td>\n",
       "      <td>82.15</td>\n",
       "      <td>166.63</td>\n",
       "    </tr>\n",
       "    <tr>\n",
       "      <th>2021-12-01</th>\n",
       "      <td>165.92</td>\n",
       "      <td>159.73</td>\n",
       "      <td>-4.55</td>\n",
       "      <td>164.28</td>\n",
       "      <td>159.16</td>\n",
       "      <td>82.37</td>\n",
       "      <td>166.53</td>\n",
       "    </tr>\n",
       "    <tr>\n",
       "      <th>2021-12-02</th>\n",
       "      <td>160.06</td>\n",
       "      <td>165.92</td>\n",
       "      <td>6.19</td>\n",
       "      <td>159.73</td>\n",
       "      <td>160.93</td>\n",
       "      <td>82.26</td>\n",
       "      <td>166.99</td>\n",
       "    </tr>\n",
       "  </tbody>\n",
       "</table>\n",
       "<p>5501 rows × 7 columns</p>\n",
       "</div>"
      ],
      "text/plain": [
       "            preco_br  yesterday  yesterday_dif  yesterday_1  last_week  \\\n",
       "data                                                                     \n",
       "1999-01-18     14.39      13.91           0.02        13.89      19.83   \n",
       "1999-01-19     15.13      14.39           0.48        13.91      21.10   \n",
       "1999-01-20     15.62      15.13           0.74        14.39      21.46   \n",
       "1999-01-21     16.97      15.62           0.49        15.13      20.56   \n",
       "1999-01-22     17.16      16.97           1.35        15.62      13.86   \n",
       "...              ...        ...            ...          ...        ...   \n",
       "2021-10-02    161.66     164.64           0.84       163.80     155.72   \n",
       "2021-11-01    164.28     161.66          -2.98       164.64     165.29   \n",
       "2021-11-02    159.73     164.28           2.62       161.66     158.46   \n",
       "2021-12-01    165.92     159.73          -4.55       164.28     159.16   \n",
       "2021-12-02    160.06     165.92           6.19       159.73     160.93   \n",
       "\n",
       "            last_year  last_month  \n",
       "data                               \n",
       "1999-01-18      18.10       14.88  \n",
       "1999-01-19      19.09       17.86  \n",
       "1999-01-20      19.24       15.83  \n",
       "1999-01-21      20.85       14.54  \n",
       "1999-01-22      19.21       14.58  \n",
       "...               ...         ...  \n",
       "2021-10-02      82.36      144.73  \n",
       "2021-11-01      82.10      144.89  \n",
       "2021-11-02      82.15      166.63  \n",
       "2021-12-01      82.37      166.53  \n",
       "2021-12-02      82.26      166.99  \n",
       "\n",
       "[5501 rows x 7 columns]"
      ]
     },
     "execution_count": 57,
     "metadata": {},
     "output_type": "execute_result"
    }
   ],
   "source": [
    "df2 = df[['preco_br']]\n",
    "\n",
    "df2.loc[:, 'yesterday'] = df2.loc[:,'preco_br'].shift()\n",
    "df2.loc[:, 'yesterday_dif'] = df2.loc[:, 'yesterday'].diff()\n",
    "\n",
    "df2.loc[:, 'yesterday_1'] = df2.loc[:,'yesterday'].shift()\n",
    "# df2.loc[:, 'yesterday_1_dif'] = df2.loc[:, 'yesterday_1'].diff()\n",
    "\n",
    "df2.loc[:, 'last_week'] = df2.loc[:, 'preco_br'].shift(7)\n",
    "# df2.loc[:, 'last_week_diff'] = df2.loc[:, 'last_week'].diff()\n",
    "\n",
    "df2.loc[:, 'last_year'] = df2.loc[:, 'preco_br'].shift(365)\n",
    "# df2.loc[:, 'last_year_diff'] = df2.loc[:, 'last_year'].diff()\n",
    "\n",
    "df2.loc[:, 'last_month'] = df2.loc[:, 'preco_br'].shift(30)\n",
    "# df2.loc[:, 'last_month_diff'] = df2.loc[:, 'last_month'].diff()\n",
    "\n",
    "df2 = df2.dropna()\n",
    "df2"
   ]
  },
  {
   "cell_type": "code",
   "execution_count": 58,
   "metadata": {},
   "outputs": [],
   "source": [
    "df2.to_csv('data/final/soja_cepea_final.csv')"
   ]
  },
  {
   "cell_type": "code",
   "execution_count": 59,
   "metadata": {},
   "outputs": [
    {
     "name": "stdout",
     "output_type": "stream",
     "text": [
      "TRAIN:  [1999] TEST:  [2000]\n",
      "TRAIN:  [1999, 2000] TEST:  [2001]\n",
      "TRAIN:  [1999, 2000, 2001] TEST:  [2002]\n",
      "TRAIN:  [1999, 2000, 2001, 2002] TEST:  [2003]\n",
      "TRAIN:  [1999, 2000, 2001, 2002, 2003] TEST:  [2004]\n",
      "TRAIN:  [1999, 2000, 2001, 2002, 2003, 2004] TEST:  [2005]\n",
      "TRAIN:  [1999, 2000, 2001, 2002, 2003, 2004, 2005] TEST:  [2006]\n",
      "TRAIN:  [1999, 2000, 2001, 2002, 2003, 2004, 2005, 2006] TEST:  [2007]\n",
      "TRAIN:  [1999, 2000, 2001, 2002, 2003, 2004, 2005, 2006, 2007] TEST:  [2008]\n",
      "TRAIN:  [1999, 2000, 2001, 2002, 2003, 2004, 2005, 2006, 2007, 2008] TEST:  [2009]\n",
      "TRAIN:  [1999, 2000, 2001, 2002, 2003, 2004, 2005, 2006, 2007, 2008, 2009] TEST:  [2010]\n",
      "TRAIN:  [1999, 2000, 2001, 2002, 2003, 2004, 2005, 2006, 2007, 2008, 2009, 2010] TEST:  [2011]\n",
      "TRAIN:  [1999, 2000, 2001, 2002, 2003, 2004, 2005, 2006, 2007, 2008, 2009, 2010, 2011] TEST:  [2012]\n",
      "TRAIN:  [1999, 2000, 2001, 2002, 2003, 2004, 2005, 2006, 2007, 2008, 2009, 2010, 2011, 2012] TEST:  [2013]\n",
      "TRAIN:  [1999, 2000, 2001, 2002, 2003, 2004, 2005, 2006, 2007, 2008, 2009, 2010, 2011, 2012, 2013] TEST:  [2014]\n",
      "TRAIN:  [1999, 2000, 2001, 2002, 2003, 2004, 2005, 2006, 2007, 2008, 2009, 2010, 2011, 2012, 2013, 2014] TEST:  [2015]\n",
      "TRAIN:  [1999, 2000, 2001, 2002, 2003, 2004, 2005, 2006, 2007, 2008, 2009, 2010, 2011, 2012, 2013, 2014, 2015] TEST:  [2016]\n",
      "TRAIN:  [1999, 2000, 2001, 2002, 2003, 2004, 2005, 2006, 2007, 2008, 2009, 2010, 2011, 2012, 2013, 2014, 2015, 2016] TEST:  [2017]\n",
      "TRAIN:  [1999, 2000, 2001, 2002, 2003, 2004, 2005, 2006, 2007, 2008, 2009, 2010, 2011, 2012, 2013, 2014, 2015, 2016, 2017] TEST:  [2018]\n",
      "TRAIN:  [1999, 2000, 2001, 2002, 2003, 2004, 2005, 2006, 2007, 2008, 2009, 2010, 2011, 2012, 2013, 2014, 2015, 2016, 2017, 2018] TEST:  [2019]\n",
      "TRAIN:  [1999, 2000, 2001, 2002, 2003, 2004, 2005, 2006, 2007, 2008, 2009, 2010, 2011, 2012, 2013, 2014, 2015, 2016, 2017, 2018, 2019] TEST:  [2020]\n",
      "TRAIN:  [1999, 2000, 2001, 2002, 2003, 2004, 2005, 2006, 2007, 2008, 2009, 2010, 2011, 2012, 2013, 2014, 2015, 2016, 2017, 2018, 2019, 2020] TEST:  [2021]\n"
     ]
    }
   ],
   "source": [
    "year_list = df2.index.year.unique().tolist()\n",
    "splits = {'train': [], 'test': []}\n",
    "\n",
    "for idx, yr in enumerate(year_list[:-1]):\n",
    "    train_yr = year_list[:idx+1]\n",
    "    test_yr = [year_list[idx+1]]\n",
    "    print('TRAIN: ', train_yr, 'TEST: ',test_yr)\n",
    "    \n",
    "    splits['train'].append(df2.loc[df2.index.year.isin(train_yr), :])\n",
    "    splits['test'].append(df2.loc[df2.index.year.isin(test_yr), :])\n",
    "    "
   ]
  },
  {
   "cell_type": "code",
   "execution_count": 60,
   "metadata": {},
   "outputs": [
    {
     "name": "stdout",
     "output_type": "stream",
     "text": [
      "0.25431118321534985\n",
      "0.5827414871539407\n",
      "0.6930488759548136\n",
      "0.47182083611742565\n",
      "0.620964184288983\n",
      "0.3324776460326927\n",
      "0.47423478486311554\n",
      "0.6768805612848392\n",
      "-0.29192037115075786\n",
      "0.41353111455006264\n",
      "0.5871780919555272\n",
      "0.22624987571448563\n",
      "0.6592714138770502\n",
      "0.4934352999133126\n",
      "0.4641384222185645\n",
      "0.6938690208674296\n",
      "0.33525362329588493\n",
      "0.23926312798972416\n",
      "0.49341107866990586\n",
      "0.6069006429992245\n",
      "0.6443945586410968\n",
      "-2.031430223394808\n"
     ]
    }
   ],
   "source": [
    "model = LinearRegression()\n",
    "\n",
    "for i, yr in enumerate(year_list[:-1]):\n",
    "    X_train = splits['train'][i].drop(['preco_br'], axis = 1).values # X\n",
    "    y_train = splits['train'][i]['preco_br'].values # Y\n",
    "    \n",
    "    X_test =  splits['test'][i].drop(['preco_br'], axis = 1).values\n",
    "    y_test = splits['test'][i]['preco_br'].values\n",
    "    \n",
    "    model.fit(X_train, y_train)\n",
    "    pred = model.predict(X_test)\n",
    "    \n",
    "    r2 = metrics.r2_score(y_test, pred)\n",
    "    print(r2)"
   ]
  },
  {
   "cell_type": "code",
   "execution_count": 61,
   "metadata": {},
   "outputs": [],
   "source": [
    "# X_train = df ['2010':'2016'].drop(['price_br'], axis = 1)\n",
    "# y_train = df.loc ['2010':'2016', 'price_br']\n",
    "# X_test = df ['2017':].drop(['price_br'], axis = 1)\n",
    "# y_test = df.loc ['2017':, 'price_br']"
   ]
  },
  {
   "cell_type": "code",
   "execution_count": 7,
   "metadata": {},
   "outputs": [],
   "source": [
    "X = df2.drop(['preco_br'], axis = 1).values\n",
    "y = df2.loc[:, 'preco_br']"
   ]
  },
  {
   "cell_type": "code",
   "execution_count": 8,
   "metadata": {},
   "outputs": [],
   "source": [
    "X_train, X_test, y_train, y_test = train_test_split(X, y, test_size = 0.30, random_state = 42)"
   ]
  },
  {
   "cell_type": "code",
   "execution_count": 9,
   "metadata": {},
   "outputs": [
    {
     "data": {
      "text/plain": [
       "0.9732448177420547"
      ]
     },
     "execution_count": 9,
     "metadata": {},
     "output_type": "execute_result"
    }
   ],
   "source": [
    "model_v1 = LinearRegression()\n",
    "model_v1.fit(X_train, y_train)\n",
    "predict_v1 = model_v1.predict(X_test)\n",
    "metrics.r2_score(y_test, predict_v1)"
   ]
  },
  {
   "cell_type": "code",
   "execution_count": null,
   "metadata": {},
   "outputs": [],
   "source": []
  },
  {
   "cell_type": "code",
   "execution_count": null,
   "metadata": {},
   "outputs": [],
   "source": []
  }
 ],
 "metadata": {
  "kernelspec": {
   "display_name": "Python 3",
   "language": "python",
   "name": "python3"
  },
  "language_info": {
   "codemirror_mode": {
    "name": "ipython",
    "version": 3
   },
   "file_extension": ".py",
   "mimetype": "text/x-python",
   "name": "python",
   "nbconvert_exporter": "python",
   "pygments_lexer": "ipython3",
   "version": "3.8.5"
  }
 },
 "nbformat": 4,
 "nbformat_minor": 4
}
